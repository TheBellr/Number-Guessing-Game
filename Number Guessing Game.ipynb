{
 "cells": [
  {
   "cell_type": "markdown",
   "id": "c1a8a787-c9b6-4959-956d-433a75b0bf73",
   "metadata": {},
   "source": [
    "# Task: Number Guessing Game\n",
    "\n",
    "Build a number guessing game where the computer randomly selects a number, and the user has to guess it. Provide feedback on whether the guess is too high or too low.\n",
    "Concepts: Random number generation, user input, basic conditional statements.\n",
    "\n",
    "# Solution:"
   ]
  },
  {
   "cell_type": "code",
   "execution_count": null,
   "id": "17d582a0-89f5-4c55-9eec-765b7390f9a4",
   "metadata": {},
   "outputs": [],
   "source": [
    "import random\n",
    "secret_number = random.randint (0, 100 )\n",
    "\n",
    "\n",
    "user_guess = float( input ( \"We have selected a secret number between 0 and 100. Can you guess what it is? \"))\n",
    "\n",
    "if user_guess == secret_number:\n",
    "    print (\"The secret number is \" + str (secret_number))\n",
    "    print (\"You are correct!\")\n",
    "    \n",
    "if (0 < user_guess < secret_number < 100 ):\n",
    "    print (\"The secret number is \" + str (secret_number))\n",
    "    print (\"You should have guessed higher.\")\n",
    "    \n",
    "if (100 > user_guess > secret_number > 0 ):\n",
    "    print (\"The secret number is \" + str (secret_number))\n",
    "    print (\"You should have guessed lower.\")\n",
    "    \n",
    "if user_guess > 100:\n",
    "    print (\"Your guess is out of range.\")\n",
    "    \n",
    "if 0 > user_guess :\n",
    "    print (\"Your guess is out of range.\")\n",
    "    \n",
    "if 0 == user_guess :\n",
    "    print (\"0 is not included in the range.\")\n",
    "    \n",
    "if 100 == user_guess :\n",
    "    print (\"100 is not included in the range.\")"
   ]
  }
 ],
 "metadata": {
  "kernelspec": {
   "display_name": "Python 3 (ipykernel)",
   "language": "python",
   "name": "python3"
  },
  "language_info": {
   "codemirror_mode": {
    "name": "ipython",
    "version": 3
   },
   "file_extension": ".py",
   "mimetype": "text/x-python",
   "name": "python",
   "nbconvert_exporter": "python",
   "pygments_lexer": "ipython3",
   "version": "3.11.5"
  }
 },
 "nbformat": 4,
 "nbformat_minor": 5
}
